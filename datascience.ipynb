{
 "cells": [
  {
   "cell_type": "code",
   "execution_count": 33,
   "id": "def303a9",
   "metadata": {},
   "outputs": [
    {
     "name": "stdout",
     "output_type": "stream",
     "text": [
      "39.5\n"
     ]
    }
   ],
   "source": [
    "# displaying total average sales \n",
    "sales = [\n",
    "    {\"1st\": [23, 45, 76, 48]},\n",
    "    {\"2nd\": [44, 20, 17, 34]},\n",
    "    {\"3rd\": [89, 32, 12, 34]}\n",
    "]\n",
    "average = []\n",
    "for x in sales:\n",
    "    for key_value, values in x.items():\n",
    "        averages = sum(values) / len(values)\n",
    "        average.append(averages)\n",
    "        \n",
    "total_avg=sum(average)/len(average)\n",
    "print(total_avg)\n",
    "\n",
    "\n",
    "   \n",
    "   \n",
    "   \n"
   ]
  },
  {
   "cell_type": "code",
   "execution_count": 39,
   "id": "701e5cdb",
   "metadata": {},
   "outputs": [
    {
     "name": "stdout",
     "output_type": "stream",
     "text": [
      "{'1st': 48.0, '2nd': 28.75, '3rd': 41.75}\n"
     ]
    }
   ],
   "source": [
    "# displaying average sales for each period\n",
    "\n",
    "sales = [\n",
    "    {\"1st\": [23, 45, 76, 48]},\n",
    "    {\"2nd\": [44, 20, 17, 34]},\n",
    "    {\"3rd\": [89, 32, 12, 34]}\n",
    "]\n",
    "averages = {}\n",
    "for x in sales:\n",
    "    for key_value, values in x.items():\n",
    "        averages[key_value]=sum(values) /len(values)\n",
    "print(averages)       "
   ]
  },
  {
   "cell_type": "code",
   "execution_count": null,
   "id": "1bd04a1f",
   "metadata": {},
   "outputs": [],
   "source": []
  },
  {
   "cell_type": "code",
   "execution_count": null,
   "id": "18f74708",
   "metadata": {},
   "outputs": [],
   "source": []
  }
 ],
 "metadata": {
  "kernelspec": {
   "display_name": "Python 3 (ipykernel)",
   "language": "python",
   "name": "python3"
  },
  "language_info": {
   "codemirror_mode": {
    "name": "ipython",
    "version": 3
   },
   "file_extension": ".py",
   "mimetype": "text/x-python",
   "name": "python",
   "nbconvert_exporter": "python",
   "pygments_lexer": "ipython3",
   "version": "3.11.5"
  }
 },
 "nbformat": 4,
 "nbformat_minor": 5
}
